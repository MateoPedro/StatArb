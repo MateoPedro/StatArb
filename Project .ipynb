{
 "cells": [
  {
   "cell_type": "markdown",
   "id": "405cbcdb",
   "metadata": {},
   "source": [
    "# Time-of-Day and Day-of-Week Effects\n",
    "Given that the crypto markets are open 24/7, it's possible that there are different patterns at different times of day or days of the week."
   ]
  },
  {
   "cell_type": "markdown",
   "id": "454889cf",
   "metadata": {},
   "source": [
    "# Data\n",
    "We use the historical price data over the last 3 years from 10 cryptocurrencies: Bitcoin (BTC), Ethereum (ETH), BinanceCoin (BNB), Cardano (ADA), XRP (XRP), Solana (SOL), Polkadot (DOT), LiteCoin (LTC), Avalanche (AVAX), Polygon (MATIC). All to in reference to Tether (USDT)."
   ]
  },
  {
   "cell_type": "code",
   "execution_count": null,
   "id": "9171d8ac",
   "metadata": {},
   "outputs": [],
   "source": [
    "from binance.client import Client as bnb_client\n",
    "from datetime import datetime\n",
    "import pandas as pd \n",
    "import numpy as np \n",
    "from pytz import timezone\n",
    "\n",
    "client = bnb_client(tld='US')\n",
    "\n",
    "def get_binance_px(symbol,freq,start_ts = '2020-01-01',end_ts='2022-06-30'):\n",
    "    data = client.get_historical_klines(symbol,freq,start_ts,end_ts)\n",
    "    columns = ['open_time','open','high','low','close','volume','close_time','quote_volume',\n",
    "    'num_trades','taker_base_volume','taker_quote_volume','ignore']\n",
    "    \n",
    "    \n",
    "    data = pd.DataFrame(data,columns = columns)\n",
    "    \n",
    "    # Convert from POSIX timestamp\n",
    "    data['open_time'] = data['open_time'].map(lambda x: datetime.utcfromtimestamp(x/1000))\n",
    "    data['close_time'] = data['close_time'].map(lambda x: datetime.utcfromtimestamp(x/1000))\n",
    "    \n",
    "    return data \n",
    "\n",
    "univ = ['BTCUSDT','ETHUSDT','ADAUSDT','BNBUSDT','XRPUSDT','DOTUSDT','MATICUSDT', 'SOLUSDT', 'LTCUSDT', 'AVAXUSDT']"
   ]
  },
  {
   "cell_type": "markdown",
   "id": "bd831d62",
   "metadata": {},
   "source": [
    "# Strategy\n",
    "We first compute hourly returns for each cryptocurrencies over the last 3 to 1 years."
   ]
  },
  {
   "cell_type": "code",
   "execution_count": null,
   "id": "f96229ee",
   "metadata": {},
   "outputs": [],
   "source": [
    "#hourly returns\n",
    "freqH = '1h'\n",
    "pxH = {}\n",
    "for x in univ:\n",
    "    data = get_binance_px(x,freqH)\n",
    "    pxH[x] = data.set_index('open_time')['close']\n",
    "\n",
    "pxH = pd.DataFrame(pxH).astype(float)\n",
    "pxH = pxH.reindex(pd.date_range(pxH.index[0],pxH.index[-1],freq=freqH))\n",
    "retH = pxH.pct_change()"
   ]
  },
  {
   "cell_type": "markdown",
   "id": "65f98db5",
   "metadata": {},
   "source": [
    "We now create a function that will take the hourly returns and a lookback window and calculate a momentum-based trading strategy for each hour, independent of the day, by computing rank-demean-normalized signal over the specified lookback window in order to identify patterns at different time-horizons."
   ]
  },
  {
   "cell_type": "code",
   "execution_count": null,
   "id": "141bc5c3",
   "metadata": {},
   "outputs": [],
   "source": [
    "def compute_strategy_expanded(df, lookback_days):\n",
    "    df['hours'] = df.index.hour\n",
    "\n",
    "    hours = df.index.hour.unique().sort_values()\n",
    "\n",
    "    columns = pd.MultiIndex.from_product([hours], names=['hour'])\n",
    "    strats = pd.DataFrame(index=df.index, columns=columns)\n",
    "\n",
    "    for hour in hours:\n",
    "        comb = df[df['hours'] == hour].drop(columns=['hours'])\n",
    "        avg_ret = comb.rolling(lookback_days, min_periods=1).mean()\n",
    "        avg_ret_rank = avg_ret.rank(axis=1)\n",
    "        avg_ret_rank = avg_ret_rank.subtract(avg_ret_rank.mean(axis=1), axis=0)\n",
    "        avg_ret_rank = avg_ret_rank.divide(avg_ret_rank.abs().sum(axis=1), axis=0)\n",
    "        strats[hour] = (avg_ret_rank.shift() * comb).sum(axis=1)\n",
    "\n",
    "    # Sum across all the strategies (hour combinations)\n",
    "    strat_total = strats.sum(axis=1)\n",
    "\n",
    "    return strat_total"
   ]
  },
  {
   "cell_type": "markdown",
   "id": "16c568c8",
   "metadata": {},
   "source": [
    "Using this function we want to investigates if the same hour has momentum, regardless of its day. "
   ]
  },
  {
   "cell_type": "code",
   "execution_count": null,
   "id": "12f1ea8b",
   "metadata": {},
   "outputs": [],
   "source": [
    "lookback_range = range(1, 31)  # This tests lookback periods from 1 to 30 days.\n",
    "\n",
    "\n",
    "results = {}\n",
    "strat_total_2 = {}\n",
    "\n",
    "for lookback_days in lookback_range:\n",
    "    # Compute the strategy for this lookback period.\n",
    "    strat_total = compute_strategy_expanded(retH, lookback_days)\n",
    "    strat_total_2[lookback_days] = strat_total \n",
    "    \n",
    "    # Compute performance metrics for this strategy.\n",
    "    sharpe_ratio = strat_total.mean() / strat_total.std() * np.sqrt(365*24)\n",
    "    cumulative_return = strat_total.cumsum().iloc[-1]\n",
    "    results[lookback_days] = {'sharpe_ratio': sharpe_ratio, 'cumulative_return': cumulative_return}\n",
    "\n",
    "strat_total_2 = pd.DataFrame(strat_total_2)\n",
    "results_df = pd.DataFrame(results).T"
   ]
  },
  {
   "cell_type": "code",
   "execution_count": null,
   "id": "6aac565d",
   "metadata": {},
   "outputs": [],
   "source": [
    "#results_df.plot(subplots=True)\n",
    "results_df.sort_values('sharpe_ratio', ascending=False)"
   ]
  },
  {
   "cell_type": "markdown",
   "id": "a51dd3bc",
   "metadata": {},
   "source": [
    "We find very positive results indicating that a same hour shows reversal untill time-horizon of 9 days and momentum after. "
   ]
  },
  {
   "cell_type": "markdown",
   "id": "c456964e",
   "metadata": {},
   "source": [
    "In an attempt to idenfity the most impactful times of days and days of weeks to thes result, we seperate between regular hours/ after hours and weekday/weekends"
   ]
  },
  {
   "cell_type": "code",
   "execution_count": null,
   "id": "fab62dcb",
   "metadata": {},
   "outputs": [],
   "source": [
    "strat_total_2['hours'] = strat_total_2.index.hour\n",
    "strat_total_2['weekday'] = strat_total_2.index.weekday\n",
    "\n",
    "regular_hours = ['14:00', '21:00'] #US time zone \n",
    "after_hours = ['00:00', '13:00', '22:00', '23:00'] #because between_time inclusive on both bounds and US time zone \n",
    "weekdays = [0, 1, 2, 3, 4]  \n",
    "weekend = [5, 6]  \n",
    "\n",
    "# Create separate dataframes for regular hours and after hours\n",
    "reg_hours_df = strat_total_2.between_time(regular_hours[0], regular_hours[1]).copy()\n",
    "after_hours_df = pd.concat([strat_total_2.between_time(after_hours[0], after_hours[1]), strat_total_2.between_time(after_hours[2], after_hours[3])]).copy()\n",
    "\n",
    "# Create separate dataframes for weekdays and weekends\n",
    "weekdays_df = strat_total_2[strat_total_2.index.weekday.isin(weekdays)].copy()\n",
    "weekend_df = strat_total_2[strat_total_2.index.weekday.isin(weekend)].copy()\n",
    "\n",
    "frames = [reg_hours_df, after_hours_df, weekdays_df, weekend_df]\n",
    "sr_strats = {}\n",
    "sr_strats['reg_hours'] = frames[0].mean() / frames[0].std() * np.sqrt(365*6)\n",
    "sr_strats['after_hours'] = frames[1].mean() / frames[1].std() * np.sqrt(365*18)\n",
    "sr_strats['weekdays'] = frames[2].mean() / frames[2].std() * np.sqrt(252*24)\n",
    "sr_strats['weekend'] = frames[3].mean() / frames[3].std() * np.sqrt(113*24)\n",
    "sr_strats = pd.DataFrame(sr_strats)"
   ]
  },
  {
   "cell_type": "markdown",
   "id": "3caec587",
   "metadata": {},
   "source": [
    "Although the results show potential, we try to get more precise. "
   ]
  },
  {
   "cell_type": "code",
   "execution_count": null,
   "id": "211c0a45",
   "metadata": {},
   "outputs": [],
   "source": [
    "#test weekdays and weekends crossed with reg and after  \n",
    "after_hours_weekdays_df = after_hours_df[after_hours_df.index.weekday.isin(weekdays)].copy()\n",
    "after_hours_weekend_df = after_hours_df[after_hours_df.index.weekday.isin(weekend)].copy()\n",
    "\n",
    "reg_hours_weekdays_df = reg_hours_df[reg_hours_df.index.weekday.isin(weekdays)].copy()\n",
    "reg_hours_weekend_df = reg_hours_df[reg_hours_df.index.weekday.isin(weekend)].copy()\n",
    "\n",
    "\n",
    "\n",
    "opt_frames = [after_hours_weekdays_df, after_hours_weekend_df, reg_hours_weekdays_df, reg_hours_weekend_df]\n",
    "sr_opt_strats = {}\n",
    "sr_opt_strats['after_hours_weekdays'] = opt_frames[0].mean() / opt_frames[0].std() * np.sqrt(252*18)\n",
    "sr_opt_strats['after_hours_weekend'] = opt_frames[1].mean() / opt_frames[1].std() * np.sqrt(113*18)\n",
    "sr_opt_strats['reg_hours_weekdays'] = opt_frames[2].mean() / opt_frames[2].std() * np.sqrt(252*18)\n",
    "sr_opt_strats['reg_hours_weekend'] = opt_frames[3].mean() / opt_frames[3].std() * np.sqrt(113*18)\n",
    "sr_opt_strats = pd.DataFrame(sr_opt_strats)\n",
    "sr_opt_strats = sr_opt_strats.drop(['hours', 'weekday'])\n",
    "sr_opt_strats"
   ]
  },
  {
   "cell_type": "markdown",
   "id": "f314648b",
   "metadata": {},
   "source": [
    "# Hypothesis\n",
    "- H1 : For after-hours on weekdays we find very strong reversal at time-horizon 1 to 2 days.\n",
    "- H2 : For regular-hours on weekends we find very strong reversal at time-horizon 1 to 8 days.\n",
    "- H3 : For regular-hours on weekdays we find very strong momentum at time-horizon 9 to 21 days.\n",
    "\n",
    "We therefore want to trade at these hours on our signal"
   ]
  },
  {
   "cell_type": "markdown",
   "id": "9801fa8f",
   "metadata": {},
   "source": [
    "# Backtest\n",
    "We now create signal that trades reversal at times and lookback said and same for the momentum\n",
    "then backtest it against the most recent years."
   ]
  },
  {
   "cell_type": "code",
   "execution_count": 6,
   "id": "7791067f",
   "metadata": {},
   "outputs": [],
   "source": [
    "from binance.client import Client as bnb_client\n",
    "from datetime import datetime\n",
    "import pandas as pd \n",
    "import numpy as np \n",
    "from pytz import timezone\n",
    "\n",
    "client = bnb_client(tld='US')\n",
    "\n",
    "def get_binance_px_backtest(symbol,freq,start_ts = '2022-06-30',end_ts='2023-07-15'):\n",
    "    data = client.get_historical_klines(symbol,freq,start_ts,end_ts)\n",
    "    columns = ['open_time','open','high','low','close','volume','close_time','quote_volume',\n",
    "    'num_trades','taker_base_volume','taker_quote_volume','ignore']\n",
    "    \n",
    "    \n",
    "    data = pd.DataFrame(data,columns = columns)\n",
    "    \n",
    "    # Convert from POSIX timestamp\n",
    "    data['open_time'] = data['open_time'].map(lambda x: datetime.utcfromtimestamp(x/1000))\n",
    "    data['close_time'] = data['close_time'].map(lambda x: datetime.utcfromtimestamp(x/1000))\n",
    "    \n",
    "    return data \n",
    "\n",
    "univ = ['BTCUSDT','ETHUSDT','ADAUSDT','BNBUSDT','XRPUSDT','DOTUSDT','MATICUSDT', 'SOLUSDT', 'LTCUSDT', 'AVAXUSDT']"
   ]
  },
  {
   "cell_type": "code",
   "execution_count": 37,
   "id": "4cc9945c",
   "metadata": {},
   "outputs": [],
   "source": [
    "def compute_strategy_backtest(df, lookback_days, momentum):\n",
    "    df['hours'] = df.index.hour\n",
    "\n",
    "    hours = df.index.hour.unique().sort_values()\n",
    "\n",
    "    columns = pd.MultiIndex.from_product([hours], names=['hour'])\n",
    "    strats = pd.DataFrame(index=df.index, columns=columns)\n",
    "\n",
    "    for hour in hours:\n",
    "        comb = df[df['hours'] == hour].drop(columns=['hours'])\n",
    "        avg_ret = comb.rolling(lookback_days, min_periods=1).mean()\n",
    "        avg_ret_rank = avg_ret.rank(axis=1, ascending=momentum)\n",
    "        avg_ret_rank = avg_ret_rank.subtract(avg_ret_rank.mean(axis=1), axis=0)\n",
    "        avg_ret_rank = avg_ret_rank.divide(avg_ret_rank.abs().sum(axis=1), axis=0)\n",
    "        strats[hour] = (avg_ret_rank.shift() * comb).sum(axis=1)\n",
    "\n",
    "    # Sum across all the strategies (hour combinations)\n",
    "    strat_total = strats.sum(axis=1)\n",
    "\n",
    "    return strat_total"
   ]
  },
  {
   "cell_type": "code",
   "execution_count": 8,
   "id": "c211b762",
   "metadata": {},
   "outputs": [],
   "source": [
    "#strat prep\n",
    "def stratPrep(returns, start, end,  momentum):\n",
    "    lookback_range = range(start, end + 1) \n",
    "\n",
    "\n",
    "    results = {}\n",
    "    strat_total_2 = {}\n",
    "\n",
    "    for lookback_days in lookback_range:\n",
    "        # Compute the strategy for this lookback period.\n",
    "        strat_total = compute_strategy_backtest(returns, lookback_days, momentum)\n",
    "        strat_total_2[lookback_days] = strat_total \n",
    "\n",
    "        # Compute performance metrics for this strategy.\n",
    "        sharpe_ratio = strat_total.mean() / strat_total.std() * np.sqrt(365*24)\n",
    "        cumulative_return = strat_total.cumsum().iloc[-1]\n",
    "        results[lookback_days] = {'sharpe_ratio': sharpe_ratio, 'cumulative_return': cumulative_return}\n",
    "\n",
    "    strat_total_2 = pd.DataFrame(strat_total_2)\n",
    "    results_df = pd.DataFrame(results).T\n",
    "    return strat_total_2, results_df"
   ]
  },
  {
   "cell_type": "code",
   "execution_count": 9,
   "id": "7c2111d0",
   "metadata": {},
   "outputs": [
    {
     "data": {
      "text/html": [
       "<div>\n",
       "<style scoped>\n",
       "    .dataframe tbody tr th:only-of-type {\n",
       "        vertical-align: middle;\n",
       "    }\n",
       "\n",
       "    .dataframe tbody tr th {\n",
       "        vertical-align: top;\n",
       "    }\n",
       "\n",
       "    .dataframe thead th {\n",
       "        text-align: right;\n",
       "    }\n",
       "</style>\n",
       "<table border=\"1\" class=\"dataframe\">\n",
       "  <thead>\n",
       "    <tr style=\"text-align: right;\">\n",
       "      <th></th>\n",
       "      <th>BTCUSDT</th>\n",
       "      <th>ETHUSDT</th>\n",
       "      <th>ADAUSDT</th>\n",
       "      <th>BNBUSDT</th>\n",
       "      <th>XRPUSDT</th>\n",
       "      <th>DOTUSDT</th>\n",
       "      <th>MATICUSDT</th>\n",
       "      <th>SOLUSDT</th>\n",
       "      <th>LTCUSDT</th>\n",
       "      <th>AVAXUSDT</th>\n",
       "    </tr>\n",
       "  </thead>\n",
       "  <tbody>\n",
       "    <tr>\n",
       "      <th>2022-06-30 00:00:00</th>\n",
       "      <td>NaN</td>\n",
       "      <td>NaN</td>\n",
       "      <td>NaN</td>\n",
       "      <td>NaN</td>\n",
       "      <td>NaN</td>\n",
       "      <td>NaN</td>\n",
       "      <td>NaN</td>\n",
       "      <td>NaN</td>\n",
       "      <td>NaN</td>\n",
       "      <td>NaN</td>\n",
       "    </tr>\n",
       "    <tr>\n",
       "      <th>2022-06-30 01:00:00</th>\n",
       "      <td>-0.000923</td>\n",
       "      <td>-0.006191</td>\n",
       "      <td>-0.005784</td>\n",
       "      <td>-0.002625</td>\n",
       "      <td>NaN</td>\n",
       "      <td>0.001445</td>\n",
       "      <td>-0.018480</td>\n",
       "      <td>-0.024007</td>\n",
       "      <td>-0.001699</td>\n",
       "      <td>-0.016166</td>\n",
       "    </tr>\n",
       "    <tr>\n",
       "      <th>2022-06-30 02:00:00</th>\n",
       "      <td>0.003159</td>\n",
       "      <td>0.005411</td>\n",
       "      <td>0.008803</td>\n",
       "      <td>0.006399</td>\n",
       "      <td>NaN</td>\n",
       "      <td>0.007215</td>\n",
       "      <td>0.014644</td>\n",
       "      <td>0.012058</td>\n",
       "      <td>0.005674</td>\n",
       "      <td>0.018192</td>\n",
       "    </tr>\n",
       "    <tr>\n",
       "      <th>2022-06-30 03:00:00</th>\n",
       "      <td>-0.000013</td>\n",
       "      <td>0.001208</td>\n",
       "      <td>-0.001555</td>\n",
       "      <td>0.000917</td>\n",
       "      <td>NaN</td>\n",
       "      <td>-0.011461</td>\n",
       "      <td>0.002062</td>\n",
       "      <td>-0.001056</td>\n",
       "      <td>-0.002445</td>\n",
       "      <td>-0.001729</td>\n",
       "    </tr>\n",
       "    <tr>\n",
       "      <th>2022-06-30 04:00:00</th>\n",
       "      <td>-0.001491</td>\n",
       "      <td>-0.002486</td>\n",
       "      <td>-0.000692</td>\n",
       "      <td>-0.003752</td>\n",
       "      <td>NaN</td>\n",
       "      <td>0.000000</td>\n",
       "      <td>-0.018519</td>\n",
       "      <td>-0.011043</td>\n",
       "      <td>-0.000754</td>\n",
       "      <td>-0.005774</td>\n",
       "    </tr>\n",
       "    <tr>\n",
       "      <th>...</th>\n",
       "      <td>...</td>\n",
       "      <td>...</td>\n",
       "      <td>...</td>\n",
       "      <td>...</td>\n",
       "      <td>...</td>\n",
       "      <td>...</td>\n",
       "      <td>...</td>\n",
       "      <td>...</td>\n",
       "      <td>...</td>\n",
       "      <td>...</td>\n",
       "    </tr>\n",
       "    <tr>\n",
       "      <th>2023-07-14 20:00:00</th>\n",
       "      <td>0.003809</td>\n",
       "      <td>0.002108</td>\n",
       "      <td>0.006864</td>\n",
       "      <td>0.010704</td>\n",
       "      <td>0.020836</td>\n",
       "      <td>0.008068</td>\n",
       "      <td>0.003064</td>\n",
       "      <td>0.003837</td>\n",
       "      <td>0.006538</td>\n",
       "      <td>0.011921</td>\n",
       "    </tr>\n",
       "    <tr>\n",
       "      <th>2023-07-14 21:00:00</th>\n",
       "      <td>0.000497</td>\n",
       "      <td>0.006399</td>\n",
       "      <td>0.007127</td>\n",
       "      <td>0.000407</td>\n",
       "      <td>0.014640</td>\n",
       "      <td>0.005770</td>\n",
       "      <td>0.014382</td>\n",
       "      <td>0.014908</td>\n",
       "      <td>0.006070</td>\n",
       "      <td>0.007623</td>\n",
       "    </tr>\n",
       "    <tr>\n",
       "      <th>2023-07-14 22:00:00</th>\n",
       "      <td>0.000213</td>\n",
       "      <td>-0.000135</td>\n",
       "      <td>-0.000923</td>\n",
       "      <td>0.000407</td>\n",
       "      <td>0.000416</td>\n",
       "      <td>-0.000925</td>\n",
       "      <td>0.005019</td>\n",
       "      <td>-0.006026</td>\n",
       "      <td>-0.003387</td>\n",
       "      <td>-0.004127</td>\n",
       "    </tr>\n",
       "    <tr>\n",
       "      <th>2023-07-14 23:00:00</th>\n",
       "      <td>0.002698</td>\n",
       "      <td>0.004030</td>\n",
       "      <td>0.010779</td>\n",
       "      <td>0.003256</td>\n",
       "      <td>-0.001525</td>\n",
       "      <td>0.007964</td>\n",
       "      <td>0.009363</td>\n",
       "      <td>0.011368</td>\n",
       "      <td>0.009877</td>\n",
       "      <td>0.011050</td>\n",
       "    </tr>\n",
       "    <tr>\n",
       "      <th>2023-07-15 00:00:00</th>\n",
       "      <td>0.000099</td>\n",
       "      <td>-0.001880</td>\n",
       "      <td>-0.005180</td>\n",
       "      <td>0.005274</td>\n",
       "      <td>-0.020694</td>\n",
       "      <td>-0.002756</td>\n",
       "      <td>-0.005195</td>\n",
       "      <td>0.035219</td>\n",
       "      <td>-0.003681</td>\n",
       "      <td>-0.003415</td>\n",
       "    </tr>\n",
       "  </tbody>\n",
       "</table>\n",
       "<p>9121 rows × 10 columns</p>\n",
       "</div>"
      ],
      "text/plain": [
       "                      BTCUSDT   ETHUSDT   ADAUSDT   BNBUSDT   XRPUSDT  \\\n",
       "2022-06-30 00:00:00       NaN       NaN       NaN       NaN       NaN   \n",
       "2022-06-30 01:00:00 -0.000923 -0.006191 -0.005784 -0.002625       NaN   \n",
       "2022-06-30 02:00:00  0.003159  0.005411  0.008803  0.006399       NaN   \n",
       "2022-06-30 03:00:00 -0.000013  0.001208 -0.001555  0.000917       NaN   \n",
       "2022-06-30 04:00:00 -0.001491 -0.002486 -0.000692 -0.003752       NaN   \n",
       "...                       ...       ...       ...       ...       ...   \n",
       "2023-07-14 20:00:00  0.003809  0.002108  0.006864  0.010704  0.020836   \n",
       "2023-07-14 21:00:00  0.000497  0.006399  0.007127  0.000407  0.014640   \n",
       "2023-07-14 22:00:00  0.000213 -0.000135 -0.000923  0.000407  0.000416   \n",
       "2023-07-14 23:00:00  0.002698  0.004030  0.010779  0.003256 -0.001525   \n",
       "2023-07-15 00:00:00  0.000099 -0.001880 -0.005180  0.005274 -0.020694   \n",
       "\n",
       "                      DOTUSDT  MATICUSDT   SOLUSDT   LTCUSDT  AVAXUSDT  \n",
       "2022-06-30 00:00:00       NaN        NaN       NaN       NaN       NaN  \n",
       "2022-06-30 01:00:00  0.001445  -0.018480 -0.024007 -0.001699 -0.016166  \n",
       "2022-06-30 02:00:00  0.007215   0.014644  0.012058  0.005674  0.018192  \n",
       "2022-06-30 03:00:00 -0.011461   0.002062 -0.001056 -0.002445 -0.001729  \n",
       "2022-06-30 04:00:00  0.000000  -0.018519 -0.011043 -0.000754 -0.005774  \n",
       "...                       ...        ...       ...       ...       ...  \n",
       "2023-07-14 20:00:00  0.008068   0.003064  0.003837  0.006538  0.011921  \n",
       "2023-07-14 21:00:00  0.005770   0.014382  0.014908  0.006070  0.007623  \n",
       "2023-07-14 22:00:00 -0.000925   0.005019 -0.006026 -0.003387 -0.004127  \n",
       "2023-07-14 23:00:00  0.007964   0.009363  0.011368  0.009877  0.011050  \n",
       "2023-07-15 00:00:00 -0.002756  -0.005195  0.035219 -0.003681 -0.003415  \n",
       "\n",
       "[9121 rows x 10 columns]"
      ]
     },
     "execution_count": 9,
     "metadata": {},
     "output_type": "execute_result"
    }
   ],
   "source": [
    "#hourly returns\n",
    "freqH = '1h'\n",
    "pxHB = {}\n",
    "for x in univ:\n",
    "    data = get_binance_px_backtest(x,freqH)\n",
    "    pxHB[x] = data.set_index('open_time')['close']\n",
    "\n",
    "pxHB = pd.DataFrame(pxHB).astype(float)\n",
    "pxHB = pxHB.reindex(pd.date_range(pxHB.index[0],pxHB.index[-1],freq=freqH))\n",
    "retHB = pxHB.pct_change()\n",
    "retHB"
   ]
  },
  {
   "cell_type": "code",
   "execution_count": 11,
   "id": "6246a984",
   "metadata": {},
   "outputs": [],
   "source": [
    "retHB['hours'] = retHB.index.hour\n",
    "retHB['weekday'] = retHB.index.weekday\n",
    "\n",
    "regular_hours = ['14:00', '21:00'] #US time zone \n",
    "after_hours = ['00:00', '13:00', '22:00', '23:00'] #because between_time inclusive on both bounds and US time zone \n",
    "weekdays = [0, 1, 2, 3, 4]  \n",
    "weekend = [5, 6]  \n",
    "\n",
    "# Create separate dataframes for regular hours and after hours\n",
    "reg_hours_dfB = retHB.between_time(regular_hours[0], regular_hours[1]).copy()\n",
    "after_hours_dfB = pd.concat([retHB.between_time(after_hours[0], after_hours[1]), retHB.between_time(after_hours[2], after_hours[3])]).copy()\n",
    "\n",
    "# Create separate dataframes for weekdays and weekends\n",
    "weekdays_dfB = retHB[retHB.index.weekday.isin(weekdays)].copy()\n",
    "weekend_dfB = retHB[retHB.index.weekday.isin(weekend)].copy()\n",
    "\n",
    "#test weekdays and weekends crossed with reg and after  \n",
    "after_hours_weekdays_dfB = after_hours_dfB[after_hours_dfB.index.weekday.isin(weekdays)].copy()\n",
    "after_hours_weekend_dfB = after_hours_dfB[after_hours_dfB.index.weekday.isin(weekend)].copy()\n",
    "\n",
    "reg_hours_weekdays_dfB = reg_hours_dfB[reg_hours_dfB.index.weekday.isin(weekdays)].copy()\n",
    "reg_hours_weekend_dfB = reg_hours_dfB[reg_hours_dfB.index.weekday.isin(weekend)].copy()"
   ]
  },
  {
   "cell_type": "code",
   "execution_count": 264,
   "id": "357ef54e",
   "metadata": {},
   "outputs": [],
   "source": [
    "'''strats[2] = stratPrep(reg_hours_weekend_df, 1, 8, False)\n",
    "strats[3] = stratPrep(reg_hours_weekdays_df, 9, 21, True)\n",
    "strats = pd.DataFrame(strats)\n",
    "strats'''\n",
    "\n",
    "H1 = stratPrep(after_hours_weekdays_dfB.drop(columns=['hours', 'weekday']), 1, 2, False)\n",
    "H2 = stratPrep(reg_hours_weekend_dfB.drop(columns=['hours', 'weekday']), 1, 8, False)\n",
    "H3 = stratPrep(reg_hours_weekdays_dfB.drop(columns=['hours', 'weekday']), 9, 21, True)"
   ]
  },
  {
   "cell_type": "markdown",
   "id": "15fb8225",
   "metadata": {},
   "source": [
    "# Results\n",
    "H1 and H3 are verified. However H2 is incoherent and is therefore dropped from our research.\n",
    "\n",
    "# Tcosts\n",
    "We know modify the compute_strategy_function to incroporate t_costs"
   ]
  },
  {
   "cell_type": "code",
   "execution_count": 72,
   "id": "fb47b3bd",
   "metadata": {},
   "outputs": [],
   "source": [
    "def compute_strategy_backtest_tcosts(df, lookback_days, momentum, tcost):\n",
    "    df['hours'] = df.index.hour\n",
    "\n",
    "    hours = df.index.hour.unique().sort_values()\n",
    "\n",
    "    columns = pd.MultiIndex.from_product([hours], names=['hour'])\n",
    "    strats = pd.DataFrame(index=df.index, columns=columns)\n",
    "\n",
    "    for hour in hours:\n",
    "        comb = df[df['hours'] == hour].drop(columns=['hours'])\n",
    "        avg_ret = comb.rolling(lookback_days, min_periods=1).mean()\n",
    "        avg_ret_rank = avg_ret.rank(axis=1, ascending=momentum)\n",
    "        avg_ret_rank = avg_ret_rank.subtract(avg_ret_rank.mean(axis=1), axis=0)\n",
    "        avg_ret_rank = avg_ret_rank.divide(avg_ret_rank.abs().sum(axis=1), axis=0)\n",
    "        strats[hour] = (avg_ret_rank.shift() * comb).sum(axis=1) * (1 - tcost)   \n",
    "        \n",
    "    strat_total = strats.sum(axis=1)\n",
    "    return strat_total"
   ]
  },
  {
   "cell_type": "code",
   "execution_count": 85,
   "id": "14218141",
   "metadata": {},
   "outputs": [],
   "source": [
    "def stratPrep_tcost(returns, start, end,  momentum):\n",
    "    lookback_range = range(start, end + 1) \n",
    "\n",
    "\n",
    "    results = {}\n",
    "    strat_total_2 = {}\n",
    "\n",
    "    for lookback_days in lookback_range:\n",
    "        # Compute the strategy for this lookback period.\n",
    "        strat_total = compute_strategy_backtest_tcosts(returns, lookback_days, momentum, 0.002)\n",
    "        strat_total_2[lookback_days] = strat_total \n",
    "\n",
    "        # Compute performance metrics for this strategy.\n",
    "        sharpe_ratio = strat_total.mean() / strat_total.std() * np.sqrt(365*24)\n",
    "        cumulative_return = strat_total.cumsum().iloc[-1]\n",
    "        results[lookback_days] = {'sharpe_ratio': sharpe_ratio, 'cumulative_return': cumulative_return}\n",
    "\n",
    "    strat_total_2 = pd.DataFrame(strat_total_2)\n",
    "    results_df = pd.DataFrame(results).T\n",
    "    return strat_total_2, results_df\n",
    "\n"
   ]
  },
  {
   "cell_type": "code",
   "execution_count": 265,
   "id": "79d3566d",
   "metadata": {},
   "outputs": [],
   "source": [
    "H1 = stratPrep_tcost(after_hours_weekdays_dfB.drop(columns = ['hours', 'weekday']), 1, 2, False)\n",
    "H3 = stratPrep_tcost(reg_hours_weekdays_dfB.drop(columns = ['hours', 'weekday']), 9, 21, True)"
   ]
  },
  {
   "cell_type": "markdown",
   "id": "8507cfcb",
   "metadata": {},
   "source": [
    "Per project guidelines, we have incroporated the 20bps tcosts which does not make our strategy obsolete"
   ]
  },
  {
   "cell_type": "markdown",
   "id": "c560cff9",
   "metadata": {},
   "source": [
    "# Weighting\n",
    "We have found one reversal and one momentum strategies to trade on. We now want to define our portfolio weights for the strategies. However we need to first define weighting for each time horizons."
   ]
  },
  {
   "cell_type": "code",
   "execution_count": 138,
   "id": "60c63e25",
   "metadata": {},
   "outputs": [],
   "source": [
    "def optimal_weights(sigma,mu):\n",
    "    wgt = np.linalg.inv(sigma) @ mu \n",
    "    wgt = wgt / np.abs(wgt).sum()\n",
    "    return wgt"
   ]
  },
  {
   "cell_type": "code",
   "execution_count": 121,
   "id": "ec862901",
   "metadata": {},
   "outputs": [],
   "source": [
    "def sr_weights(sigma,mu):\n",
    "    wgt = mu / np.diag(sigma) \n",
    "    wgt = wgt / np.abs(wgt).sum()\n",
    "    return wgt"
   ]
  },
  {
   "cell_type": "code",
   "execution_count": 149,
   "id": "d1af4739",
   "metadata": {},
   "outputs": [
    {
     "data": {
      "text/html": [
       "<div>\n",
       "<style scoped>\n",
       "    .dataframe tbody tr th:only-of-type {\n",
       "        vertical-align: middle;\n",
       "    }\n",
       "\n",
       "    .dataframe tbody tr th {\n",
       "        vertical-align: top;\n",
       "    }\n",
       "\n",
       "    .dataframe thead th {\n",
       "        text-align: right;\n",
       "    }\n",
       "</style>\n",
       "<table border=\"1\" class=\"dataframe\">\n",
       "  <thead>\n",
       "    <tr style=\"text-align: right;\">\n",
       "      <th></th>\n",
       "      <th>0</th>\n",
       "    </tr>\n",
       "  </thead>\n",
       "  <tbody>\n",
       "    <tr>\n",
       "      <th>1</th>\n",
       "      <td>0.456</td>\n",
       "    </tr>\n",
       "    <tr>\n",
       "      <th>2</th>\n",
       "      <td>0.544</td>\n",
       "    </tr>\n",
       "  </tbody>\n",
       "</table>\n",
       "</div>"
      ],
      "text/plain": [
       "       0\n",
       "1  0.456\n",
       "2  0.544"
      ]
     },
     "execution_count": 149,
     "metadata": {},
     "output_type": "execute_result"
    }
   ],
   "source": [
    "#S1 weighting\n",
    "sigma = H1[0].cov()\n",
    "mu = H1[0].mean()\n",
    "\n",
    "S1W = pd.DataFrame(sr_weights(sigma,mu)).round(3)\n",
    "\n",
    "\n",
    "#S2 weighting\n",
    "sigma2 = H3[0].cov()\n",
    "mu2 = H3[0].mean()\n",
    "\n",
    "S2W = pd.DataFrame(sr_weights(sigma2,mu2)).round(3)"
   ]
  },
  {
   "cell_type": "code",
   "execution_count": 159,
   "id": "e7c97fa3",
   "metadata": {},
   "outputs": [
    {
     "data": {
      "text/html": [
       "<div>\n",
       "<style scoped>\n",
       "    .dataframe tbody tr th:only-of-type {\n",
       "        vertical-align: middle;\n",
       "    }\n",
       "\n",
       "    .dataframe tbody tr th {\n",
       "        vertical-align: top;\n",
       "    }\n",
       "\n",
       "    .dataframe thead th {\n",
       "        text-align: right;\n",
       "    }\n",
       "</style>\n",
       "<table border=\"1\" class=\"dataframe\">\n",
       "  <thead>\n",
       "    <tr style=\"text-align: right;\">\n",
       "      <th></th>\n",
       "      <th>1</th>\n",
       "      <th>2</th>\n",
       "    </tr>\n",
       "  </thead>\n",
       "  <tbody>\n",
       "    <tr>\n",
       "      <th>2022-06-30 00:00:00</th>\n",
       "      <td>0.000000</td>\n",
       "      <td>NaN</td>\n",
       "    </tr>\n",
       "    <tr>\n",
       "      <th>2022-06-30 01:00:00</th>\n",
       "      <td>0.000000</td>\n",
       "      <td>NaN</td>\n",
       "    </tr>\n",
       "    <tr>\n",
       "      <th>2022-06-30 02:00:00</th>\n",
       "      <td>0.000000</td>\n",
       "      <td>NaN</td>\n",
       "    </tr>\n",
       "    <tr>\n",
       "      <th>2022-06-30 03:00:00</th>\n",
       "      <td>0.000000</td>\n",
       "      <td>NaN</td>\n",
       "    </tr>\n",
       "    <tr>\n",
       "      <th>2022-06-30 04:00:00</th>\n",
       "      <td>0.000000</td>\n",
       "      <td>NaN</td>\n",
       "    </tr>\n",
       "    <tr>\n",
       "      <th>...</th>\n",
       "      <td>...</td>\n",
       "      <td>...</td>\n",
       "    </tr>\n",
       "    <tr>\n",
       "      <th>2023-07-14 19:00:00</th>\n",
       "      <td>NaN</td>\n",
       "      <td>0.002320</td>\n",
       "    </tr>\n",
       "    <tr>\n",
       "      <th>2023-07-14 20:00:00</th>\n",
       "      <td>NaN</td>\n",
       "      <td>0.000301</td>\n",
       "    </tr>\n",
       "    <tr>\n",
       "      <th>2023-07-14 21:00:00</th>\n",
       "      <td>NaN</td>\n",
       "      <td>0.000464</td>\n",
       "    </tr>\n",
       "    <tr>\n",
       "      <th>2023-07-14 22:00:00</th>\n",
       "      <td>-0.001131</td>\n",
       "      <td>NaN</td>\n",
       "    </tr>\n",
       "    <tr>\n",
       "      <th>2023-07-14 23:00:00</th>\n",
       "      <td>-0.002992</td>\n",
       "      <td>NaN</td>\n",
       "    </tr>\n",
       "  </tbody>\n",
       "</table>\n",
       "<p>6528 rows × 2 columns</p>\n",
       "</div>"
      ],
      "text/plain": [
       "                            1         2\n",
       "2022-06-30 00:00:00  0.000000       NaN\n",
       "2022-06-30 01:00:00  0.000000       NaN\n",
       "2022-06-30 02:00:00  0.000000       NaN\n",
       "2022-06-30 03:00:00  0.000000       NaN\n",
       "2022-06-30 04:00:00  0.000000       NaN\n",
       "...                       ...       ...\n",
       "2023-07-14 19:00:00       NaN  0.002320\n",
       "2023-07-14 20:00:00       NaN  0.000301\n",
       "2023-07-14 21:00:00       NaN  0.000464\n",
       "2023-07-14 22:00:00 -0.001131       NaN\n",
       "2023-07-14 23:00:00 -0.002992       NaN\n",
       "\n",
       "[6528 rows x 2 columns]"
      ]
     },
     "execution_count": 159,
     "metadata": {},
     "output_type": "execute_result"
    }
   ],
   "source": [
    "#S1 returns\n",
    "S1R = (H1[0] * S1W[0]).sum(1)\n",
    "S1R\n",
    "\n",
    "#S2R returns\n",
    "S2R = (H3[0] * S2W[0]).sum(1)\n",
    "S2R\n",
    "\n",
    "Strat_Rets = {}\n",
    "Strat_Rets[1] = S1R\n",
    "Strat_Rets[2] = S2R\n",
    "Strat_Rets = pd.DataFrame(Strat_Rets)\n",
    "Strat_Rets"
   ]
  },
  {
   "cell_type": "code",
   "execution_count": 169,
   "id": "8c932358",
   "metadata": {},
   "outputs": [
    {
     "data": {
      "text/html": [
       "<div>\n",
       "<style scoped>\n",
       "    .dataframe tbody tr th:only-of-type {\n",
       "        vertical-align: middle;\n",
       "    }\n",
       "\n",
       "    .dataframe tbody tr th {\n",
       "        vertical-align: top;\n",
       "    }\n",
       "\n",
       "    .dataframe thead th {\n",
       "        text-align: right;\n",
       "    }\n",
       "</style>\n",
       "<table border=\"1\" class=\"dataframe\">\n",
       "  <thead>\n",
       "    <tr style=\"text-align: right;\">\n",
       "      <th></th>\n",
       "      <th>0</th>\n",
       "    </tr>\n",
       "  </thead>\n",
       "  <tbody>\n",
       "    <tr>\n",
       "      <th>1</th>\n",
       "      <td>0.533</td>\n",
       "    </tr>\n",
       "    <tr>\n",
       "      <th>2</th>\n",
       "      <td>0.467</td>\n",
       "    </tr>\n",
       "  </tbody>\n",
       "</table>\n",
       "</div>"
      ],
      "text/plain": [
       "       0\n",
       "1  0.533\n",
       "2  0.467"
      ]
     },
     "execution_count": 169,
     "metadata": {},
     "output_type": "execute_result"
    }
   ],
   "source": [
    "# overall weighting\n",
    "sigmaOS = Strat_Rets.cov()\n",
    "muOS = Strat_Rets.mean()\n",
    "OSW = pd.DataFrame(sr_weights(sigmaOS,muOS)).round(3)\n",
    "OSW"
   ]
  },
  {
   "cell_type": "code",
   "execution_count": 167,
   "id": "252c1822",
   "metadata": {},
   "outputs": [
    {
     "data": {
      "text/html": [
       "<div>\n",
       "<style scoped>\n",
       "    .dataframe tbody tr th:only-of-type {\n",
       "        vertical-align: middle;\n",
       "    }\n",
       "\n",
       "    .dataframe tbody tr th {\n",
       "        vertical-align: top;\n",
       "    }\n",
       "\n",
       "    .dataframe thead th {\n",
       "        text-align: right;\n",
       "    }\n",
       "</style>\n",
       "<table border=\"1\" class=\"dataframe\">\n",
       "  <thead>\n",
       "    <tr style=\"text-align: right;\">\n",
       "      <th></th>\n",
       "      <th>0</th>\n",
       "    </tr>\n",
       "  </thead>\n",
       "  <tbody>\n",
       "    <tr>\n",
       "      <th>2022-06-30 00:00:00</th>\n",
       "      <td>0.000000</td>\n",
       "    </tr>\n",
       "    <tr>\n",
       "      <th>2022-06-30 01:00:00</th>\n",
       "      <td>0.000000</td>\n",
       "    </tr>\n",
       "    <tr>\n",
       "      <th>2022-06-30 02:00:00</th>\n",
       "      <td>0.000000</td>\n",
       "    </tr>\n",
       "    <tr>\n",
       "      <th>2022-06-30 03:00:00</th>\n",
       "      <td>0.000000</td>\n",
       "    </tr>\n",
       "    <tr>\n",
       "      <th>2022-06-30 04:00:00</th>\n",
       "      <td>0.000000</td>\n",
       "    </tr>\n",
       "    <tr>\n",
       "      <th>...</th>\n",
       "      <td>...</td>\n",
       "    </tr>\n",
       "    <tr>\n",
       "      <th>2023-07-14 19:00:00</th>\n",
       "      <td>0.001083</td>\n",
       "    </tr>\n",
       "    <tr>\n",
       "      <th>2023-07-14 20:00:00</th>\n",
       "      <td>0.000141</td>\n",
       "    </tr>\n",
       "    <tr>\n",
       "      <th>2023-07-14 21:00:00</th>\n",
       "      <td>0.000217</td>\n",
       "    </tr>\n",
       "    <tr>\n",
       "      <th>2023-07-14 22:00:00</th>\n",
       "      <td>-0.000603</td>\n",
       "    </tr>\n",
       "    <tr>\n",
       "      <th>2023-07-14 23:00:00</th>\n",
       "      <td>-0.001595</td>\n",
       "    </tr>\n",
       "  </tbody>\n",
       "</table>\n",
       "<p>6528 rows × 1 columns</p>\n",
       "</div>"
      ],
      "text/plain": [
       "                            0\n",
       "2022-06-30 00:00:00  0.000000\n",
       "2022-06-30 01:00:00  0.000000\n",
       "2022-06-30 02:00:00  0.000000\n",
       "2022-06-30 03:00:00  0.000000\n",
       "2022-06-30 04:00:00  0.000000\n",
       "...                       ...\n",
       "2023-07-14 19:00:00  0.001083\n",
       "2023-07-14 20:00:00  0.000141\n",
       "2023-07-14 21:00:00  0.000217\n",
       "2023-07-14 22:00:00 -0.000603\n",
       "2023-07-14 23:00:00 -0.001595\n",
       "\n",
       "[6528 rows x 1 columns]"
      ]
     },
     "execution_count": 167,
     "metadata": {},
     "output_type": "execute_result"
    }
   ],
   "source": [
    "FinalRets = (Strat_Rets * OSW[0]).sum(1)\n",
    "FinalRets = pd.DataFrame(FinalRets)\n",
    "FinalRets"
   ]
  },
  {
   "cell_type": "markdown",
   "id": "4717bc5e",
   "metadata": {},
   "source": [
    "# Performance Evaluation"
   ]
  },
  {
   "cell_type": "code",
   "execution_count": 173,
   "id": "7b38e5f4",
   "metadata": {},
   "outputs": [
    {
     "data": {
      "text/html": [
       "<div>\n",
       "<style scoped>\n",
       "    .dataframe tbody tr th:only-of-type {\n",
       "        vertical-align: middle;\n",
       "    }\n",
       "\n",
       "    .dataframe tbody tr th {\n",
       "        vertical-align: top;\n",
       "    }\n",
       "\n",
       "    .dataframe thead th {\n",
       "        text-align: right;\n",
       "    }\n",
       "</style>\n",
       "<table border=\"1\" class=\"dataframe\">\n",
       "  <thead>\n",
       "    <tr style=\"text-align: right;\">\n",
       "      <th></th>\n",
       "      <th>Returns</th>\n",
       "      <th>Volatility</th>\n",
       "      <th>Sharpe Ratio</th>\n",
       "    </tr>\n",
       "  </thead>\n",
       "  <tbody>\n",
       "    <tr>\n",
       "      <th>0</th>\n",
       "      <td>0.166983</td>\n",
       "      <td>0.082068</td>\n",
       "      <td>2.034699</td>\n",
       "    </tr>\n",
       "  </tbody>\n",
       "</table>\n",
       "</div>"
      ],
      "text/plain": [
       "    Returns  Volatility  Sharpe Ratio\n",
       "0  0.166983    0.082068      2.034699"
      ]
     },
     "execution_count": 173,
     "metadata": {},
     "output_type": "execute_result"
    }
   ],
   "source": [
    "#all anualized and since strategy trades on every hour of weekdays we do 252 * 24\n",
    "stats = {}\n",
    "stats['Returns'] = FinalRets.mean() * 252 * 24\n",
    "stats['Volatility'] = FinalRets.std() * np.sqrt(252 * 24)\n",
    "stats['Sharpe Ratio'] = FinalRets.mean() / FinalRets.std() * np.sqrt(252 * 24)\n",
    "stats = pd.DataFrame(stats)\n",
    "stats"
   ]
  },
  {
   "cell_type": "code",
   "execution_count": 179,
   "id": "264f1b53",
   "metadata": {},
   "outputs": [
    {
     "data": {
      "text/plain": [
       "0   -8.668895\n",
       "dtype: float64"
      ]
     },
     "execution_count": 179,
     "metadata": {},
     "output_type": "execute_result"
    },
    {
     "data": {
      "image/png": "[encoded data removed]",
      "text/plain": [
       "<Figure size 640x480 with 1 Axes>"
      ]
     },
     "metadata": {},
     "output_type": "display_data"
    }
   ],
   "source": [
    "#drawdowns\n",
    "finalCumRet = FinalRets.cumsum()\n",
    "\n",
    "def drawdown(cumRets):\n",
    "    return (cumRets / cumRets.expanding(min_periods=1).max() -1)\n",
    "\n",
    "stratDD = drawdown(finalCumRet)\n",
    "stratDD.plot()\n",
    "stratDD.min() #worse point of drawdowns"
   ]
  },
  {
   "cell_type": "code",
   "execution_count": 183,
   "id": "9dc0037e",
   "metadata": {},
   "outputs": [
    {
     "data": {
      "text/plain": [
       "0    73.416667\n",
       "dtype: object"
      ]
     },
     "execution_count": 183,
     "metadata": {},
     "output_type": "execute_result"
    },
    {
     "data": {
      "image/png": "[encoded data removed]",
      "text/plain": [
       "<Figure size 640x480 with 1 Axes>"
      ]
     },
     "metadata": {},
     "output_type": "display_data"
    }
   ],
   "source": [
    "#drawdown duration\n",
    "def duration(finalCumRet):\n",
    "    \n",
    "    peak = finalCumRet.expanding(min_periods=1).max()\n",
    "    res = pd.DataFrame(index=finalCumRet.index,columns=finalCumRet.columns)\n",
    "    \n",
    "    for col in finalCumRet.columns:\n",
    "        for dt in finalCumRet.index:\n",
    "            \n",
    "            if finalCumRet.loc[dt,col] >= peak.loc[dt,col]:\n",
    "                 res.loc[dt,col] = 0\n",
    "    \n",
    "            else:    \n",
    "                res.loc[dt,col] = res.loc[:dt,col].iloc[-2] + 1/24\n",
    "\n",
    "    return res\n",
    "\n",
    "stratDDD = duration(finalCumRet)\n",
    "stratDDD.plot()\n",
    "stratDDD.max()  #longest drawdown throughout the year"
   ]
  },
  {
   "cell_type": "markdown",
   "id": "35683ea3",
   "metadata": {},
   "source": [
    "Looking at these 2 graphs seperatly could be a bit scary however as we see on the first graph we have a very low drawdown at some point which is also over a short period of time. On the other hand we see a a fex long drawdowns throughout the year but they never go very low making it not too uncomfortable."
   ]
  },
  {
   "cell_type": "markdown",
   "id": "49b75a1d",
   "metadata": {},
   "source": [
    "# Regression Using StatsModels\n",
    "- Run a regression to find beta and alpha of our strat to BTC\n",
    "- Strat<sub>t</sub> ~ $\\beta$ * BTC<sub>t</sub> + $\\alpha$ + e<sub>t</sub>"
   ]
  },
  {
   "cell_type": "code",
   "execution_count": 223,
   "id": "ea48809f",
   "metadata": {},
   "outputs": [],
   "source": [
    "#alpha/beta using bitcoin as benchmark\n",
    "benchMark = get_binance_px_backtest('BTCUSDT','1h')\n",
    "retBM = benchMark.set_index('open_time')['close']\n",
    "retBM = pd.DataFrame(retBM).astype(float)\n",
    "retBM = retBM.reindex(pd.date_range(retBM.index[0],retBM.index[-1],freq=freqH))\n",
    "retBM = retBM.pct_change()"
   ]
  },
  {
   "cell_type": "code",
   "execution_count": 224,
   "id": "3e16c84a",
   "metadata": {},
   "outputs": [
    {
     "data": {
      "text/html": [
       "<div>\n",
       "<style scoped>\n",
       "    .dataframe tbody tr th:only-of-type {\n",
       "        vertical-align: middle;\n",
       "    }\n",
       "\n",
       "    .dataframe tbody tr th {\n",
       "        vertical-align: top;\n",
       "    }\n",
       "\n",
       "    .dataframe thead th {\n",
       "        text-align: right;\n",
       "    }\n",
       "</style>\n",
       "<table border=\"1\" class=\"dataframe\">\n",
       "  <thead>\n",
       "    <tr style=\"text-align: right;\">\n",
       "      <th></th>\n",
       "      <th>strat</th>\n",
       "      <th>BM</th>\n",
       "    </tr>\n",
       "  </thead>\n",
       "  <tbody>\n",
       "    <tr>\n",
       "      <th>2022-06-30 00:00:00</th>\n",
       "      <td>0.000000</td>\n",
       "      <td>NaN</td>\n",
       "    </tr>\n",
       "    <tr>\n",
       "      <th>2022-06-30 01:00:00</th>\n",
       "      <td>0.000000</td>\n",
       "      <td>-0.000923</td>\n",
       "    </tr>\n",
       "    <tr>\n",
       "      <th>2022-06-30 02:00:00</th>\n",
       "      <td>0.000000</td>\n",
       "      <td>0.003159</td>\n",
       "    </tr>\n",
       "    <tr>\n",
       "      <th>2022-06-30 03:00:00</th>\n",
       "      <td>0.000000</td>\n",
       "      <td>-0.000013</td>\n",
       "    </tr>\n",
       "    <tr>\n",
       "      <th>2022-06-30 04:00:00</th>\n",
       "      <td>0.000000</td>\n",
       "      <td>-0.001491</td>\n",
       "    </tr>\n",
       "    <tr>\n",
       "      <th>...</th>\n",
       "      <td>...</td>\n",
       "      <td>...</td>\n",
       "    </tr>\n",
       "    <tr>\n",
       "      <th>2023-07-14 19:00:00</th>\n",
       "      <td>0.001083</td>\n",
       "      <td>0.000271</td>\n",
       "    </tr>\n",
       "    <tr>\n",
       "      <th>2023-07-14 20:00:00</th>\n",
       "      <td>0.000141</td>\n",
       "      <td>0.003809</td>\n",
       "    </tr>\n",
       "    <tr>\n",
       "      <th>2023-07-14 21:00:00</th>\n",
       "      <td>0.000217</td>\n",
       "      <td>0.000497</td>\n",
       "    </tr>\n",
       "    <tr>\n",
       "      <th>2023-07-14 22:00:00</th>\n",
       "      <td>-0.000603</td>\n",
       "      <td>0.000213</td>\n",
       "    </tr>\n",
       "    <tr>\n",
       "      <th>2023-07-14 23:00:00</th>\n",
       "      <td>-0.001595</td>\n",
       "      <td>0.002698</td>\n",
       "    </tr>\n",
       "  </tbody>\n",
       "</table>\n",
       "<p>6528 rows × 2 columns</p>\n",
       "</div>"
      ],
      "text/plain": [
       "                        strat        BM\n",
       "2022-06-30 00:00:00  0.000000       NaN\n",
       "2022-06-30 01:00:00  0.000000 -0.000923\n",
       "2022-06-30 02:00:00  0.000000  0.003159\n",
       "2022-06-30 03:00:00  0.000000 -0.000013\n",
       "2022-06-30 04:00:00  0.000000 -0.001491\n",
       "...                       ...       ...\n",
       "2023-07-14 19:00:00  0.001083  0.000271\n",
       "2023-07-14 20:00:00  0.000141  0.003809\n",
       "2023-07-14 21:00:00  0.000217  0.000497\n",
       "2023-07-14 22:00:00 -0.000603  0.000213\n",
       "2023-07-14 23:00:00 -0.001595  0.002698\n",
       "\n",
       "[6528 rows x 2 columns]"
      ]
     },
     "execution_count": 224,
     "metadata": {},
     "output_type": "execute_result"
    }
   ],
   "source": [
    "retBM['days'] = retBM.index.weekday\n",
    "retBM = retBM[~retBM['days'].isin([5,6])]\n",
    "rets = pd.DataFrame()\n",
    "rets['strat'] = FinalRets\n",
    "rets['BM'] = retBM.drop(columns='days')\n",
    "rets"
   ]
  },
  {
   "cell_type": "code",
   "execution_count": 246,
   "id": "21318f7d",
   "metadata": {},
   "outputs": [],
   "source": [
    "import statsmodels.api as sm\n",
    "X = rets[['BM']]\n",
    "X = sm.add_constant(X)\n",
    "\n",
    "Y = rets['strat']"
   ]
  },
  {
   "cell_type": "code",
   "execution_count": 245,
   "id": "b54f537d",
   "metadata": {},
   "outputs": [],
   "source": [
    "X = X.drop(X.iloc[0].name)\n",
    "Y = Y.drop(Y.index[0])\n",
    "results = sm.OLS(Y, X).fit()"
   ]
  },
  {
   "cell_type": "code",
   "execution_count": 248,
   "id": "b5081a5d",
   "metadata": {},
   "outputs": [
    {
     "data": {
      "text/plain": [
       "const    2.053700\n",
       "BM       4.937233\n",
       "dtype: float64"
      ]
     },
     "execution_count": 248,
     "metadata": {},
     "output_type": "execute_result"
    }
   ],
   "source": [
    "results.summary()\n",
    "results.tvalues"
   ]
  },
  {
   "cell_type": "markdown",
   "id": "1e74514a",
   "metadata": {},
   "source": [
    "Reconstruct our strat\n",
    "- FB<sub>t</sub> ~ $\\beta$ * SPY<sub>t</sub> + $\\alpha$ + e<sub>t</sub>"
   ]
  },
  {
   "cell_type": "code",
   "execution_count": 250,
   "id": "e5fbbffb",
   "metadata": {},
   "outputs": [],
   "source": [
    "strat = results.params['BM']*X['BM'] + results.params['const'] + results.resid"
   ]
  },
  {
   "cell_type": "code",
   "execution_count": 252,
   "id": "21f2c966",
   "metadata": {},
   "outputs": [
    {
     "data": {
      "text/plain": [
       "3.4102350476013533e-17"
      ]
     },
     "execution_count": 252,
     "metadata": {},
     "output_type": "execute_result"
    }
   ],
   "source": [
    "(strat-Y).abs().sum()"
   ]
  },
  {
   "cell_type": "code",
   "execution_count": 254,
   "id": "0c877bfb",
   "metadata": {},
   "outputs": [],
   "source": [
    "r = results.params['BM']*X['BM']\n",
    "prediction = results.params['BM']*X['BM'] + results.params['const']\n",
    "alpha_contr = results.params['const'] + results.resid"
   ]
  },
  {
   "cell_type": "code",
   "execution_count": 255,
   "id": "b559f249",
   "metadata": {},
   "outputs": [
    {
     "data": {
      "text/plain": [
       "2022-06-30 01:00:00    9.909775e-06\n",
       "2022-06-30 02:00:00   -3.390667e-05\n",
       "2022-06-30 03:00:00    1.443069e-07\n",
       "2022-06-30 04:00:00    1.600760e-05\n",
       "2022-06-30 05:00:00    1.995508e-05\n",
       "                           ...     \n",
       "2023-07-14 19:00:00    1.080328e-03\n",
       "2023-07-14 20:00:00    9.985892e-05\n",
       "2023-07-14 21:00:00    2.113945e-04\n",
       "2023-07-14 22:00:00   -6.052181e-04\n",
       "2023-07-14 23:00:00   -1.623841e-03\n",
       "Length: 6527, dtype: float64"
      ]
     },
     "execution_count": 255,
     "metadata": {},
     "output_type": "execute_result"
    }
   ],
   "source": [
    "alpha_contr"
   ]
  },
  {
   "cell_type": "code",
   "execution_count": 256,
   "id": "f87d0876",
   "metadata": {},
   "outputs": [
    {
     "data": {
      "text/plain": [
       "<AxesSubplot:>"
      ]
     },
     "execution_count": 256,
     "metadata": {},
     "output_type": "execute_result"
    },
    {
     "data": {
      "image/png": "[encoded data removed]",
      "text/plain": [
       "<Figure size 640x480 with 1 Axes>"
      ]
     },
     "metadata": {},
     "output_type": "display_data"
    }
   ],
   "source": [
    "alpha_contr.cumsum().plot()"
   ]
  },
  {
   "cell_type": "code",
   "execution_count": 257,
   "id": "ce8086e1",
   "metadata": {},
   "outputs": [
    {
     "data": {
      "text/plain": [
       "6.540094399242437e-17"
      ]
     },
     "execution_count": 257,
     "metadata": {},
     "output_type": "execute_result"
    }
   ],
   "source": [
    "# corr is almost 0 to BM\n",
    "alpha_contr.corr(X['BM'])"
   ]
  },
  {
   "cell_type": "code",
   "execution_count": 258,
   "id": "2d6e2d3e",
   "metadata": {},
   "outputs": [
    {
     "data": {
      "text/plain": [
       "2.678180880492585e-05"
      ]
     },
     "execution_count": 258,
     "metadata": {},
     "output_type": "execute_result"
    }
   ],
   "source": [
    "#\"alpha\"\n",
    "alpha_contr.mean()"
   ]
  },
  {
   "cell_type": "code",
   "execution_count": 259,
   "id": "318bf426",
   "metadata": {},
   "outputs": [
    {
     "data": {
      "text/plain": [
       "1.977223289957915"
      ]
     },
     "execution_count": 259,
     "metadata": {},
     "output_type": "execute_result"
    }
   ],
   "source": [
    "# information ratio\n",
    "alpha_contr.mean()/alpha_contr.std()*np.sqrt(252 * 24)"
   ]
  },
  {
   "cell_type": "code",
   "execution_count": 260,
   "id": "d5ac3210",
   "metadata": {},
   "outputs": [
    {
     "data": {
      "text/plain": [
       "2.0537003986836893"
      ]
     },
     "execution_count": 260,
     "metadata": {},
     "output_type": "execute_result"
    }
   ],
   "source": [
    "# alpha t-stat\n",
    "results.tvalues['const']"
   ]
  },
  {
   "cell_type": "markdown",
   "id": "c777025e",
   "metadata": {},
   "source": [
    "Our regression shows that our strategy is not correlated to the 'tide' of cryptos (chose BTC as the tide) and that the information ratio was very close to the sharpe."
   ]
  }
 ],
 "metadata": {
  "kernelspec": {
   "display_name": "Python 3 (ipykernel)",
   "language": "python",
   "name": "python3"
  },
  "language_info": {
   "codemirror_mode": {
    "name": "ipython",
    "version": 3
   },
   "file_extension": ".py",
   "mimetype": "text/x-python",
   "name": "python",
   "nbconvert_exporter": "python",
   "pygments_lexer": "ipython3",
   "version": "3.9.13"
  }
 },
 "nbformat": 4,
 "nbformat_minor": 5
}
